{
 "cells": [
  {
   "cell_type": "markdown",
   "metadata": {},
   "source": [
    "## Programmers에서 제공한 예제입니다.\n",
    "##### https://programmers.co.kr/"
   ]
  },
  {
   "cell_type": "markdown",
   "metadata": {},
   "source": [
    "# K 번째 수\n",
    "* 배열 array의 i번째 숫자부터 j번째 숫자까지 자르고 정렬했을 때, k번째에 있는 수를 구하려 합니다.\n",
    "\n",
    "매개변수 ::\n",
    "* 배열 array, [i, j, k]를 원소로 가진 2차원 배열 commands\n",
    "\n",
    "return ::\n",
    "* commands의 모든 원소에 대해 앞서 설명한 연산을 적용했을 때 나온 결과"
   ]
  },
  {
   "cell_type": "code",
   "execution_count": 1,
   "metadata": {},
   "outputs": [],
   "source": [
    "def solution(array, commands):\n",
    "    answer = []\n",
    "    \n",
    "    for c in commands:\n",
    "        temp = array[c[0]-1:c[1]]\n",
    "        temp.sort()\n",
    "        answer.append(temp[c[2]-1])\n",
    "    \n",
    "    return answer"
   ]
  },
  {
   "cell_type": "markdown",
   "metadata": {},
   "source": [
    "# 가장 큰 수\n",
    "\n",
    "매개변수 ::\n",
    "* 0 또는 양의 정수가 담긴 배열 numbers\n",
    "\n",
    "return ::\n",
    "* 순서를 재배치하여 만들 수 있는 가장 큰 수를 문자열로"
   ]
  },
  {
   "cell_type": "code",
   "execution_count": 2,
   "metadata": {},
   "outputs": [],
   "source": [
    "from functools import reduce\n",
    "\n",
    "def solution(numbers):\n",
    "    answer = ''\n",
    "    str_nums = sorted([str(x) for x in numbers], reverse = True, key = lambda x : x*4)\n",
    "    answer = str(int(reduce(lambda x,y : x+y, str_nums)))\n",
    "    \n",
    "    return answer"
   ]
  },
  {
   "cell_type": "markdown",
   "metadata": {},
   "source": [
    "# H-Index\n",
    "\n",
    "* 어떤 과학자가 발표한 논문 n편 중, h번 이상 인용된 논문이 h편 이상이고 나머지 논문이 h번 이하 인용되었다면 h의 최댓값이 이 과학자의 H-Index입니다.\n",
    "\n",
    "매개변수 ::\n",
    "* 어떤 과학자가 발표한 논문의 인용 횟수를 담은 배열 citations\n",
    "\n",
    "return ::\n",
    "* 이 과학자의 H-Index"
   ]
  },
  {
   "cell_type": "code",
   "execution_count": 3,
   "metadata": {},
   "outputs": [],
   "source": [
    "def solution(c):\n",
    "    answer = 0\n",
    "    for i in range(len(c), -1, -1):\n",
    "        check_01 = []\n",
    "        check_02 = []\n",
    "        for j in range(0, len(c)):\n",
    "            if c[j] >= i:\n",
    "                check_01.append(c[j])\n",
    "            else:\n",
    "                check_02.append(c[j])\n",
    "        if len(check_01) >= i > len(check_02):\n",
    "            return i\n",
    "    return answer"
   ]
  }
 ],
 "metadata": {
  "kernelspec": {
   "display_name": "python3.7",
   "language": "python",
   "name": "py37"
  },
  "language_info": {
   "codemirror_mode": {
    "name": "ipython",
    "version": 3
   },
   "file_extension": ".py",
   "mimetype": "text/x-python",
   "name": "python",
   "nbconvert_exporter": "python",
   "pygments_lexer": "ipython3",
   "version": "3.7.6"
  }
 },
 "nbformat": 4,
 "nbformat_minor": 2
}
