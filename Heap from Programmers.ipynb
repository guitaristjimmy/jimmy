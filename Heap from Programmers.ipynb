{
 "cells": [
  {
   "cell_type": "markdown",
   "metadata": {},
   "source": [
    "## Programmers에서 제공한 예제입니다.\n",
    "##### https://programmers.co.kr/"
   ]
  },
  {
   "cell_type": "markdown",
   "metadata": {},
   "source": [
    "# 더 맵게\n",
    "\n",
    "매개변수 :: \n",
    "* 음식의 스코빌 지수를 담은 배열 scoville\n",
    "* 사용자가 원하는 스코빌 지수 K\n",
    "\n",
    "- 섞은 음식의 스코빌 지수 = 가장 맵지 않은 음식의 스코빌 지수 + (두 번째로 맵지 않은 음식의 스코빌 지수 * 2)\n",
    "return ::\n",
    "* 모든 음식의 스코빌 지수를 K 이상으로 만들기 위해 섞여야 하는 최소 횟수\n",
    "\n",
    "최소 힙트리를 이용해 두가지 음식을 뽑아 섞기만 하면 크게 어렵지 않은 문제였다."
   ]
  },
  {
   "cell_type": "code",
   "execution_count": 1,
   "metadata": {},
   "outputs": [],
   "source": [
    "import heapq\n",
    "\n",
    "def solution(scoville, K):\n",
    "    answer, m_heap, f = 0, [], []\n",
    "    def mix(x, y):\n",
    "        if x <= y:\n",
    "            return x+2*y\n",
    "        else:\n",
    "            return y+2*x\n",
    "    for s in scoville:\n",
    "        heapq.heappush(m_heap, s)\n",
    "    while len(m_heap) > 1:\n",
    "        f.append(heapq.heappop(m_heap))\n",
    "        if f[0] < K:\n",
    "            f.append(heapq.heappop(m_heap))\n",
    "            mixed = mix(f[0], f[1])\n",
    "            answer += 1\n",
    "            heapq.heappush(m_heap, mixed)\n",
    "            f = []\n",
    "        else:\n",
    "            break\n",
    "    if len(m_heap) == 1 and m_heap[0] < K:\n",
    "        return -1\n",
    "    else:\n",
    "        return answer"
   ]
  },
  {
   "cell_type": "markdown",
   "metadata": {},
   "source": [
    "# 라면 공장\n",
    "\n",
    "매개변수 :: \n",
    "* 현재 공장에 남아있는 밀가루 수량 stock\n",
    "* 밀가루 공급 일정 dates\n",
    "* 해당 시점에 공급 가능한 밀가루 수량 supplies\n",
    "* 원래 공장으로부터 공급받을 수 있는 시점 k\n",
    "return ::\n",
    "* 공장을 운영하기 위해서 최소한 몇 번 해외 공장으로부터 밀가루를 공급받아야 하는지\n",
    "\n",
    "놓치는 경우의 수가 자꾸 나와서 생각보다 푸는데 오래걸린 문제였다."
   ]
  },
  {
   "cell_type": "code",
   "execution_count": 2,
   "metadata": {},
   "outputs": [],
   "source": [
    "import heapq as hq\n",
    "def solution(stock, dates, supplies, k):\n",
    "    answer, cur_d, sq, = 0, 0, []\n",
    "    while stock < k-cur_d:\n",
    "        for i in range(0, len(dates)):\n",
    "            if stock >= dates[i]-cur_d:\n",
    "                hq.heappush(sq, -supplies[i])\n",
    "                if i == len(dates)-1:\n",
    "                    stock = stock - hq.heappop(sq)-dates[i]+cur_d\n",
    "                    answer += 1\n",
    "                    while stock < k-dates[i]:\n",
    "                        stock = stock - hq.heappop(sq)\n",
    "                        answer += 1\n",
    "                    return answer \n",
    "            else:\n",
    "                d_id = i\n",
    "                day_pass = dates[i-1] - cur_d\n",
    "                cur_d = dates[i-1]\n",
    "                break\n",
    "        dates = dates[d_id:]\n",
    "        supplies = supplies[d_id:]\n",
    "        stock = stock - hq.heappop(sq) - day_pass\n",
    "        answer += 1\n",
    "        while stock < dates[0]-cur_d:\n",
    "            stock = stock - hq.heappop(sq)\n",
    "            answer += 1\n",
    "    return answer\n"
   ]
  },
  {
   "cell_type": "markdown",
   "metadata": {},
   "source": [
    "# 디스크 컨트롤러\n",
    "\n",
    "매개변수 :: \n",
    "* 작업이 요청되는 시점, 작업의 소요시간 을 담은 2차원 배열 jobs\n",
    "return ::\n",
    "* 모든 작업의 종료까지 걸린 시간의 평균\n",
    "\n",
    "시간 순서로 진행하는 경우 무리하게 코드를 짧게 짜려다가 오히려 돌아가는 경우가 꼭 생긴다... 차근차근히 풀면 그렇게 어렵지 않은 문제였다."
   ]
  },
  {
   "cell_type": "code",
   "execution_count": 1,
   "metadata": {},
   "outputs": [],
   "source": [
    "import heapq as hq\n",
    "def solution(jobs):\n",
    "    answer = 0\n",
    "    jobs.sort()\n",
    "    run_times, on_disk = [], 0\n",
    "    while len(jobs) > 0:\n",
    "        i, j = 0, 1\n",
    "        while len(jobs) > 1:\n",
    "            if jobs[i][0] == jobs[j][0]:\n",
    "                if jobs[i][1] <= jobs[j][1]:\n",
    "                    j += 1\n",
    "                else:\n",
    "                    i = j\n",
    "                    j += 1\n",
    "            else:\n",
    "                break\n",
    "        on_disk = jobs[i]\n",
    "        run_times.append(jobs[i][1])\n",
    "        jobs.remove(jobs[i])\n",
    "        t = on_disk[0] + on_disk[1]\n",
    "        wait = []\n",
    "        jobs, wait = push(jobs, wait, t)\n",
    "        while len(wait) > 0:\n",
    "            n_work = hq.heappop(wait)\n",
    "            time = t - n_work[1] + n_work[0]\n",
    "            run_times.append(time)\n",
    "            t += n_work[0]\n",
    "            jobs, wait = push(jobs, wait, t)\n",
    "    return int(sum(run_times)/len(run_times))\n",
    "\n",
    "def push(jobs, wait, t):\n",
    "    while len(jobs) > 0:\n",
    "        if jobs[0][0] >= t:\n",
    "            break\n",
    "        else:\n",
    "            hq.heappush(wait, (jobs[0][1], jobs[0][0]))\n",
    "            del(jobs[0])\n",
    "    return jobs, wait"
   ]
  },
  {
   "cell_type": "markdown",
   "metadata": {},
   "source": [
    "# 이중 우선순위큐\n",
    "\n",
    "매개변수 :: \n",
    "* 이중 우선순위 큐가 할 연산 operations\n",
    "* I 숫자 : 큐에 주어진 숫자 삽입, D1 : 최댓값 삭제, D-1 : 최소값 삭제\n",
    "return ::\n",
    "* 큐 내의 최대값, 최소값\n",
    "\n",
    " 문제 자체는 쉽지만, 끝마치고 다른 사람의 풀이를 보니 굳이 최대힙을 따로 구성하지 않고 max()함수를 사용하면 코드 자체는 더 간결하게 만들수 있었다."
   ]
  },
  {
   "cell_type": "code",
   "execution_count": 2,
   "metadata": {},
   "outputs": [],
   "source": [
    "import heapq as hq\n",
    "def solution(operations):\n",
    "    answer = []\n",
    "    min_q, max_q = [], []\n",
    "    op = [x.split(' ') for x in operations]\n",
    "    for x in op:\n",
    "        if x[0] == 'I':\n",
    "            hq.heappush(min_q, int(x[1]))\n",
    "            hq.heappush(max_q, -int(x[1]))        \n",
    "        else:\n",
    "            if int(x[1]) >= 0:\n",
    "                for i in range(0, int(x[1])):\n",
    "                    if len(max_q) != 0:\n",
    "                        d = -hq.heappop(max_q)\n",
    "                        min_q.remove(d)\n",
    "                    else: break\n",
    "            else:\n",
    "                for i in range(0, -int(x[1])):\n",
    "                    if len(min_q) != 0:\n",
    "                        d = -hq.heappop(min_q)\n",
    "                        max_q.remove(d)\n",
    "                    else: break\n",
    "    if len(max_q) == 0:\n",
    "        return [0, 0]\n",
    "    else:\n",
    "        return [-hq.heappop(max_q), hq.heappop(min_q)]"
   ]
  }
 ],
 "metadata": {
  "kernelspec": {
   "display_name": "Python 3",
   "language": "python",
   "name": "python3"
  },
  "language_info": {
   "codemirror_mode": {
    "name": "ipython",
    "version": 3
   },
   "file_extension": ".py",
   "mimetype": "text/x-python",
   "name": "python",
   "nbconvert_exporter": "python",
   "pygments_lexer": "ipython3",
   "version": "3.7.4"
  }
 },
 "nbformat": 4,
 "nbformat_minor": 2
}
