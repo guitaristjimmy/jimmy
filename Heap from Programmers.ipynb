{
 "cells": [
  {
   "cell_type": "markdown",
   "metadata": {},
   "source": [
    "## Programmers에서 제공한 예제입니다.\n",
    "##### https://programmers.co.kr/"
   ]
  },
  {
   "cell_type": "markdown",
   "metadata": {},
   "source": [
    "# 더 맵게\n",
    "\n",
    "매개변수 :: \n",
    "* 음식의 스코빌 지수를 담은 배열 scoville\n",
    "* 사용자가 원하는 스코빌 지수 K\n",
    "\n",
    "- 섞은 음식의 스코빌 지수 = 가장 맵지 않은 음식의 스코빌 지수 + (두 번째로 맵지 않은 음식의 스코빌 지수 * 2)\n",
    "return ::\n",
    "* 모든 음식의 스코빌 지수를 K 이상으로 만들기 위해 섞여야 하는 최소 횟수\n",
    "\n",
    "최소 힙트리를 이용해 두가지 음식을 뽑아 섞기만 하면 크게 어렵지 않은 문제였다."
   ]
  },
  {
   "cell_type": "code",
   "execution_count": 1,
   "metadata": {},
   "outputs": [],
   "source": [
    "import heapq\n",
    "\n",
    "def solution(scoville, K):\n",
    "    answer, m_heap, f = 0, [], []\n",
    "    def mix(x, y):\n",
    "        if x <= y:\n",
    "            return x+2*y\n",
    "        else:\n",
    "            return y+2*x\n",
    "    for s in scoville:\n",
    "        heapq.heappush(m_heap, s)\n",
    "    while len(m_heap) > 1:\n",
    "        f.append(heapq.heappop(m_heap))\n",
    "        if f[0] < K:\n",
    "            f.append(heapq.heappop(m_heap))\n",
    "            mixed = mix(f[0], f[1])\n",
    "            answer += 1\n",
    "            heapq.heappush(m_heap, mixed)\n",
    "            f = []\n",
    "        else:\n",
    "            break\n",
    "    if len(m_heap) == 1 and m_heap[0] < K:\n",
    "        return -1\n",
    "    else:\n",
    "        return answer"
   ]
  },
  {
   "cell_type": "markdown",
   "metadata": {},
   "source": [
    "# 라면 공장\n",
    "\n",
    "매개변수 :: \n",
    "* 현재 공장에 남아있는 밀가루 수량 stock\n",
    "* 밀가루 공급 일정 dates\n",
    "* 해당 시점에 공급 가능한 밀가루 수량 supplies\n",
    "* 원래 공장으로부터 공급받을 수 있는 시점 k\n",
    "return ::\n",
    "* 공장을 운영하기 위해서 최소한 몇 번 해외 공장으로부터 밀가루를 공급받아야 하는지\n",
    "\n",
    "놓치는 경우의 수가 자꾸 나와서 생각보다 푸는데 오래걸린 문제였다."
   ]
  },
  {
   "cell_type": "code",
   "execution_count": 2,
   "metadata": {},
   "outputs": [],
   "source": [
    "import heapq as hq\n",
    "def solution(stock, dates, supplies, k):\n",
    "    answer, cur_d, sq, = 0, 0, []\n",
    "    while stock < k-cur_d:\n",
    "        for i in range(0, len(dates)):\n",
    "            if stock >= dates[i]-cur_d:\n",
    "                hq.heappush(sq, -supplies[i])\n",
    "                if i == len(dates)-1:\n",
    "                    stock = stock - hq.heappop(sq)-dates[i]+cur_d\n",
    "                    answer += 1\n",
    "                    while stock < k-dates[i]:\n",
    "                        stock = stock - hq.heappop(sq)\n",
    "                        answer += 1\n",
    "                    return answer \n",
    "            else:\n",
    "                d_id = i\n",
    "                day_pass = dates[i-1] - cur_d\n",
    "                cur_d = dates[i-1]\n",
    "                break\n",
    "        dates = dates[d_id:]\n",
    "        supplies = supplies[d_id:]\n",
    "        stock = stock - hq.heappop(sq) - day_pass\n",
    "        answer += 1\n",
    "        while stock < dates[0]-cur_d:\n",
    "            stock = stock - hq.heappop(sq)\n",
    "            answer += 1\n",
    "    return answer\n"
   ]
  },
  {
   "cell_type": "code",
   "execution_count": null,
   "metadata": {},
   "outputs": [],
   "source": []
  }
 ],
 "metadata": {
  "kernelspec": {
   "display_name": "Python 3",
   "language": "python",
   "name": "python3"
  },
  "language_info": {
   "codemirror_mode": {
    "name": "ipython",
    "version": 3
   },
   "file_extension": ".py",
   "mimetype": "text/x-python",
   "name": "python",
   "nbconvert_exporter": "python",
   "pygments_lexer": "ipython3",
   "version": "3.7.4"
  }
 },
 "nbformat": 4,
 "nbformat_minor": 2
}
