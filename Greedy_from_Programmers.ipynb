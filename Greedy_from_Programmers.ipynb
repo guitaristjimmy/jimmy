{
 "cells": [
  {
   "cell_type": "markdown",
   "metadata": {},
   "source": [
    "## Programmers에서 제공한 예제입니다.\n",
    "##### https://programmers.co.kr/"
   ]
  },
  {
   "cell_type": "markdown",
   "metadata": {},
   "source": [
    "# 체육복\n",
    "\n",
    "매개변수 ::\n",
    "* 전체 학생의 수 n\n",
    "* 체육복을 도난당한 학생들의 번호가 담긴 배열 lost\n",
    "* 여벌의 체육복을 가져온 학생들의 번호가 담긴 배열 reserve\n",
    "\n",
    "return ::\n",
    "* 체육수업을 들을 수 있는 학생의 최댓값\n",
    "\n",
    "양쪽으로 체육복을 빌려줄수 있는 경우보다 한쪽으로 밖에 빌려줄 수 없는 경우를 우선순위에 두고 최대한 모든 경우에 대해 빌려줄수 있도록 만들었다."
   ]
  },
  {
   "cell_type": "code",
   "execution_count": 1,
   "metadata": {},
   "outputs": [],
   "source": [
    "def solution(n, lost, reserve):\n",
    "    one_way, two_way = [], []\n",
    "    for r in reserve:\n",
    "        if lost.count(r) != 1:\n",
    "            if lost.count(r-1) == 1 and lost.count(r+1) == 1:\n",
    "                two_way.append(r)\n",
    "            elif lost.count(r-1) == 1 or lost.count(r+1) == 1:\n",
    "                one_way.append(r)\n",
    "        else:\n",
    "            lost.remove(r)\n",
    "    for o in one_way:\n",
    "        if lost.count(o-1) == 1:\n",
    "            lost.remove(o-1)\n",
    "        elif lost.count(o+1) == 1:\n",
    "            lost.remove(o+1)\n",
    "            \n",
    "    for t in two_way:\n",
    "        if lost.count(t-1) == 1:\n",
    "            lost.remove(t-1)\n",
    "        elif lost.count(t+1) == 1:\n",
    "            lost.remove(t+1)\n",
    "    return n - len(lost)"
   ]
  },
  {
   "cell_type": "markdown",
   "metadata": {},
   "source": [
    "# 큰 수 만들기\n",
    "\n",
    "매개변수 ::\n",
    "* 문자열 형식으로 숫자 number\n",
    "* 제거할 수의 개수 k\n",
    "\n",
    "return ::\n",
    "* number에서 k 개의 수를 제거했을 때 만들 수 있는 수 중 가장 큰 숫자\n",
    "\n",
    "이 문제는 시간을 줄이는 것에 대해서 많은 고민을 필요로 하는 문제였다.\n",
    "\n",
    "최대값을 찾는 과정이 오래걸리기 때문에 최대값을 찾아야 하는 경우를 최소화하여 풀었다."
   ]
  },
  {
   "cell_type": "code",
   "execution_count": 2,
   "metadata": {},
   "outputs": [],
   "source": [
    "def solution(number, k):\n",
    "    ans, check, m_count = '', number[:k], 0\n",
    "    for i in range(0, len(number)-k):\n",
    "        check += number[k+i]\n",
    "        if len(check) <= 1:\n",
    "            ans += number[k+i:]\n",
    "            break\n",
    "        if m_count == 0:\n",
    "            m = max(check)\n",
    "            m_count = check.count(m)-1\n",
    "            ans += m\n",
    "            check = check[check.find(m)+1:]\n",
    "        else:\n",
    "            if number[k+i] > m:\n",
    "                ans += number[k+i:]\n",
    "                break\n",
    "            elif number[k+i] == m:\n",
    "                ans += m\n",
    "                check = check[check.find(m)+1:]\n",
    "            else:\n",
    "                ans += m\n",
    "                check = check[check.find(m)+1:]\n",
    "                m_count -= 1\n",
    "    return ans"
   ]
  },
  {
   "cell_type": "markdown",
   "metadata": {},
   "source": [
    "# 조이스틱\n",
    "\n",
    "조이스틱으로 알파벳 이름을 완성하세요.\n",
    "\n",
    "매개변수 ::\n",
    "* 만들고자 하는 이름 name\n",
    "\n",
    "return ::\n",
    "* 이름에 대해 조이스틱 조작 횟수의 최솟값\n",
    "\n",
    "좌우로 움직일 때 언제가 최선이 될것이냐는 문제이다.\n",
    "\n",
    "따라서 좌우양쪽으로 움직일때 제일 가까운 쪽으로 움직이도록 만들어서 해결했다."
   ]
  },
  {
   "cell_type": "code",
   "execution_count": 3,
   "metadata": {},
   "outputs": [],
   "source": [
    "def solution(name):\n",
    "    alpha = ['A','B','C','D','E','F','G','H','I','J','K','L','M',\n",
    "             'N','O','P','Q','R','S','T','U','V','W','X','Y','Z']\n",
    "    name = [n for n in name]\n",
    "    base = ['A']*len(name)\n",
    "    answer = 0\n",
    "    i = 0\n",
    "    while True:\n",
    "        n = name[i]\n",
    "        base[i] = n\n",
    "        if alpha.index(n) <= 12:\n",
    "            answer += alpha.index(n)\n",
    "        else:\n",
    "            answer += len(alpha) - alpha.index(n)\n",
    "        if name != base:\n",
    "            move, next_id = find_dir(name, base, i)\n",
    "            answer += move\n",
    "            i = next_id\n",
    "        else:\n",
    "            break\n",
    "    return answer\n",
    "\n",
    "def find_dir(name, base, loc):\n",
    "    i,j = 1,-1\n",
    "    while True:\n",
    "        if loc + i < len(name):\n",
    "            if name[loc+i] != 'A' and base[loc+i] == 'A':\n",
    "                return i, loc+i\n",
    "        else:\n",
    "            if name[loc+i-len(name)] != 'A' and base[loc+i-len(name)] == 'A':\n",
    "                return i, loc+i-len(name)\n",
    "        if name[loc+j] != 'A' and base[loc+j] == 'A':\n",
    "            id = loc + j if loc + j >= 0 else len(name) + loc + j\n",
    "            return -j, id\n",
    "        i += 1\n",
    "        j -= 1"
   ]
  },
  {
   "cell_type": "markdown",
   "metadata": {},
   "source": [
    "# 구명보트\n",
    "\n",
    "매개변수 ::\n",
    "* 사람들의 몸무게를 담은 배열 people\n",
    "* 구명보트의 무게 제한 limit\n",
    "\n",
    "return ::\n",
    "* 모든 사람을 구출하기 위해 필요한 구명보트 개수의 최솟값\n",
    "\n",
    "한 보트에는 최대 2명까지만 탈 수 있다는 제한조건이 있기 때문에 최대값과 최소값을 비교하는 것으로 어렵지 않게 풀 수 있다."
   ]
  },
  {
   "cell_type": "code",
   "execution_count": 4,
   "metadata": {},
   "outputs": [],
   "source": [
    "import collections\n",
    "def solution(people, limit):\n",
    "    people = collections.deque(sorted(people))\n",
    "    answer, s, b = 0, people.popleft(), people.pop()\n",
    "    while len(people) >= 0:\n",
    "        answer += 1\n",
    "        if s+b > limit:\n",
    "            if len(people) > 0:\n",
    "                b = people.pop()\n",
    "            else:\n",
    "                answer += 1\n",
    "                break\n",
    "        else:\n",
    "            if len(people) >= 2:\n",
    "                b = people.pop()\n",
    "                s = people.popleft()\n",
    "            else:\n",
    "                answer += len(people)\n",
    "                break\n",
    "    return answer"
   ]
  },
  {
   "cell_type": "markdown",
   "metadata": {},
   "source": [
    "# 섬 연결하기\n",
    "\n",
    "매개변수 ::\n",
    "* n개의 섬 사이에 다리를 건설하는 비용(costs)\n",
    "* 'costs[i][0] 와 costs[i] [1]에는 다리가 연결되는 두 섬의 번호가 들어있고, costs[i] [2]에는 이 두 섬을 연결하는 다리를 건설할 때 드는 비용'\n",
    "\n",
    "return ::\n",
    "* 최소의 비용으로 모든 섬이 서로 통행 가능하도록 만들 때 필요한 최소 비용\n",
    "\n",
    "경우의 수를 체크하는 것이 조금 귀찮은 문제이다."
   ]
  },
  {
   "cell_type": "code",
   "execution_count": 1,
   "metadata": {},
   "outputs": [],
   "source": [
    "def solution(n, costs):\n",
    "    linked, answer = [], 0\n",
    "    costs = sorted(costs, key=lambda x: x[2])\n",
    "    while len(costs) > 0:\n",
    "        c = costs.pop(0)\n",
    "        if len(linked) == 0:\n",
    "            answer += c[2]\n",
    "            linked.append(c[:2])\n",
    "        else:\n",
    "            check = []\n",
    "            for i in range(0, len(linked)):\n",
    "                x, y = linked[i].count(c[0]), linked[i].count(c[1])\n",
    "                if x != 0 and y == 0:\n",
    "                    check.append([i, c[1]])\n",
    "                elif x == 0 and y != 0:\n",
    "                    check.append([i, c[0]])\n",
    "                elif x != 0 and y != 0:\n",
    "                    c = []\n",
    "                    break\n",
    "            if c != []:\n",
    "                answer += c[2]\n",
    "                if len(check) == 0:\n",
    "                    linked.append(c[:2])\n",
    "                elif len(check) == 1:\n",
    "                    linked[check[0][0]].append(check[0][1])\n",
    "                elif len(check) == 2:\n",
    "                    linked[check[0][0]] += linked[check[1][0]]\n",
    "                    del linked[check[1][0]]\n",
    "        if len(linked) == 1 and len(linked[0]) == n:\n",
    "            break\n",
    "    return answer"
   ]
  },
  {
   "cell_type": "markdown",
   "metadata": {},
   "source": [
    "# 단속카메라\n",
    "\n",
    "매개변수 ::\n",
    "* 고속도로를 이동하는 차량의 경로 routes\n",
    "\n",
    "return ::\n",
    "* 모든 차량이 한 번은 단속용 카메라를 만나도록 하려면 최소 몇 대의 카메라를 설치해야 하는지\n",
    "\n",
    "주어진 경로를 어떻게 최적화하게 묶을지를 잘 고민하면 되는 문제였다."
   ]
  },
  {
   "cell_type": "code",
   "execution_count": 2,
   "metadata": {},
   "outputs": [],
   "source": [
    "def solution(routes):\n",
    "    answer = 1\n",
    "    routes.sort()\n",
    "    group = []\n",
    "    for r in routes:\n",
    "        if len(group) == 0:\n",
    "            group.append(r)\n",
    "        else:\n",
    "            if group[-1][1] >= r[1]:\n",
    "                group[-1] = r\n",
    "            else:\n",
    "                if group[-1][1] >= r[0]:\n",
    "                    group[-1] = [r[0], group[-1][1]]\n",
    "                else:\n",
    "                    answer += 1\n",
    "                    group.append(r)\n",
    "    return answer"
   ]
  },
  {
   "cell_type": "markdown",
   "metadata": {},
   "source": [
    "# 저울\n",
    "\n",
    "매개변수 ::\n",
    "* 저울추가 담긴 배열 weight\n",
    "\n",
    "return ::\n",
    "* 이 추들로 측정할 수 없는 양의 정수 무게 중 최솟값\n",
    "\n",
    "어떤 수학적인 센스를 필요하는 문제이다. 경우의 수로 접근하여 완전탐색하게 되면 끝이 없기 때문이다."
   ]
  },
  {
   "cell_type": "code",
   "execution_count": 3,
   "metadata": {},
   "outputs": [],
   "source": [
    "def solution(weight):\n",
    "    weight.sort()\n",
    "    _sum = weight[0]\n",
    "    for w in weight[1:]:\n",
    "        if w > _sum:\n",
    "            if w == _sum+1:\n",
    "                _sum += w\n",
    "            else:\n",
    "                return _sum+1\n",
    "        else:\n",
    "            _sum += w\n",
    "    return _sum+1"
   ]
  }
 ],
 "metadata": {
  "kernelspec": {
   "display_name": "python3.7",
   "language": "python",
   "name": "test_pyqt"
  },
  "language_info": {
   "codemirror_mode": {
    "name": "ipython",
    "version": 3
   },
   "file_extension": ".py",
   "mimetype": "text/x-python",
   "name": "python",
   "nbconvert_exporter": "python",
   "pygments_lexer": "ipython3",
   "version": "3.7.6"
  }
 },
 "nbformat": 4,
 "nbformat_minor": 2
}
