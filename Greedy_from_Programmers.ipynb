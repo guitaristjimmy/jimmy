{
 "cells": [
  {
   "cell_type": "markdown",
   "metadata": {},
   "source": [
    "## Programmers에서 제공한 예제입니다.\n",
    "##### https://programmers.co.kr/"
   ]
  },
  {
   "cell_type": "markdown",
   "metadata": {},
   "source": [
    "# 체육복\n",
    "\n",
    "매개변수 ::\n",
    "* 전체 학생의 수 n\n",
    "* 체육복을 도난당한 학생들의 번호가 담긴 배열 lost\n",
    "* 여벌의 체육복을 가져온 학생들의 번호가 담긴 배열 reserve\n",
    "\n",
    "return ::\n",
    "* 체육수업을 들을 수 있는 학생의 최댓값\n",
    "\n",
    "양쪽으로 체육복을 빌려줄수 있는 경우보다 한쪽으로 밖에 빌려줄 수 없는 경우를 우선순위에 두고 최대한 모든 경우에 대해 빌려줄수 있도록 만들었다."
   ]
  },
  {
   "cell_type": "code",
   "execution_count": 1,
   "metadata": {},
   "outputs": [],
   "source": [
    "def solution(n, lost, reserve):\n",
    "    one_way, two_way = [], []\n",
    "    for r in reserve:\n",
    "        if lost.count(r) != 1:\n",
    "            if lost.count(r-1) == 1 and lost.count(r+1) == 1:\n",
    "                two_way.append(r)\n",
    "            elif lost.count(r-1) == 1 or lost.count(r+1) == 1:\n",
    "                one_way.append(r)\n",
    "        else:\n",
    "            lost.remove(r)\n",
    "    for o in one_way:\n",
    "        if lost.count(o-1) == 1:\n",
    "            lost.remove(o-1)\n",
    "        elif lost.count(o+1) == 1:\n",
    "            lost.remove(o+1)\n",
    "            \n",
    "    for t in two_way:\n",
    "        if lost.count(t-1) == 1:\n",
    "            lost.remove(t-1)\n",
    "        elif lost.count(t+1) == 1:\n",
    "            lost.remove(t+1)\n",
    "    return n - len(lost)"
   ]
  },
  {
   "cell_type": "markdown",
   "metadata": {},
   "source": [
    "# 큰 수 만들기\n",
    "\n",
    "매개변수 ::\n",
    "* 문자열 형식으로 숫자 number\n",
    "* 제거할 수의 개수 k\n",
    "\n",
    "return ::\n",
    "* number에서 k 개의 수를 제거했을 때 만들 수 있는 수 중 가장 큰 숫자\n",
    "\n",
    "이 문제는 시간을 줄이는 것에 대해서 많은 고민을 필요로 하는 문제였다.\n",
    "\n",
    "최대값을 찾는 과정이 오래걸리기 때문에 최대값을 찾아야 하는 경우를 최소화하여 풀었다."
   ]
  },
  {
   "cell_type": "code",
   "execution_count": 2,
   "metadata": {},
   "outputs": [],
   "source": [
    "def solution(number, k):\n",
    "    ans, check, m_count = '', number[:k], 0\n",
    "    for i in range(0, len(number)-k):\n",
    "        check += number[k+i]\n",
    "        if len(check) <= 1:\n",
    "            ans += number[k+i:]\n",
    "            break\n",
    "        if m_count == 0:\n",
    "            m = max(check)\n",
    "            m_count = check.count(m)-1\n",
    "            ans += m\n",
    "            check = check[check.find(m)+1:]\n",
    "        else:\n",
    "            if number[k+i] > m:\n",
    "                ans += number[k+i:]\n",
    "                break\n",
    "            elif number[k+i] == m:\n",
    "                ans += m\n",
    "                check = check[check.find(m)+1:]\n",
    "            else:\n",
    "                ans += m\n",
    "                check = check[check.find(m)+1:]\n",
    "                m_count -= 1\n",
    "    return ans"
   ]
  },
  {
   "cell_type": "markdown",
   "metadata": {},
   "source": [
    "# 조이스틱\n",
    "\n",
    "조이스틱으로 알파벳 이름을 완성하세요.\n",
    "\n",
    "매개변수 ::\n",
    "* 만들고자 하는 이름 name\n",
    "\n",
    "return ::\n",
    "* 이름에 대해 조이스틱 조작 횟수의 최솟값\n",
    "\n",
    "좌우로 움직일 때 언제가 최선이 될것이냐는 문제이다.\n",
    "\n",
    "따라서 좌우양쪽으로 움직일때 제일 가까운 쪽으로 움직이도록 만들어서 해결했다."
   ]
  },
  {
   "cell_type": "code",
   "execution_count": 3,
   "metadata": {},
   "outputs": [],
   "source": [
    "def solution(name):\n",
    "    alpha = ['A','B','C','D','E','F','G','H','I','J','K','L','M',\n",
    "             'N','O','P','Q','R','S','T','U','V','W','X','Y','Z']\n",
    "    name = [n for n in name]\n",
    "    base = ['A']*len(name)\n",
    "    answer = 0\n",
    "    i = 0\n",
    "    while True:\n",
    "        n = name[i]\n",
    "        base[i] = n\n",
    "        if alpha.index(n) <= 12:\n",
    "            answer += alpha.index(n)\n",
    "        else:\n",
    "            answer += len(alpha) - alpha.index(n)\n",
    "        if name != base:\n",
    "            move, next_id = find_dir(name, base, i)\n",
    "            answer += move\n",
    "            i = next_id\n",
    "        else:\n",
    "            break\n",
    "    return answer\n",
    "\n",
    "def find_dir(name, base, loc):\n",
    "    i,j = 1,-1\n",
    "    while True:\n",
    "        if loc + i < len(name):\n",
    "            if name[loc+i] != 'A' and base[loc+i] == 'A':\n",
    "                return i, loc+i\n",
    "        else:\n",
    "            if name[loc+i-len(name)] != 'A' and base[loc+i-len(name)] == 'A':\n",
    "                return i, loc+i-len(name)\n",
    "        if name[loc+j] != 'A' and base[loc+j] == 'A':\n",
    "            id = loc + j if loc + j >= 0 else len(name) + loc + j\n",
    "            return -j, id\n",
    "        i += 1\n",
    "        j -= 1"
   ]
  },
  {
   "cell_type": "markdown",
   "metadata": {},
   "source": [
    "# 구명보트\n",
    "\n",
    "매개변수 ::\n",
    "* 사람들의 몸무게를 담은 배열 people\n",
    "* 구명보트의 무게 제한 limit\n",
    "\n",
    "return ::\n",
    "* 모든 사람을 구출하기 위해 필요한 구명보트 개수의 최솟값\n",
    "\n",
    "한 보트에는 최대 2명까지만 탈 수 있다는 제한조건이 있기 때문에 최대값과 최소값을 비교하는 것으로 어렵지 않게 풀 수 있다."
   ]
  },
  {
   "cell_type": "code",
   "execution_count": 4,
   "metadata": {},
   "outputs": [],
   "source": [
    "import collections\n",
    "def solution(people, limit):\n",
    "    people = collections.deque(sorted(people))\n",
    "    answer, s, b = 0, people.popleft(), people.pop()\n",
    "    while len(people) >= 0:\n",
    "        answer += 1\n",
    "        if s+b > limit:\n",
    "            if len(people) > 0:\n",
    "                b = people.pop()\n",
    "            else:\n",
    "                answer += 1\n",
    "                break\n",
    "        else:\n",
    "            if len(people) >= 2:\n",
    "                b = people.pop()\n",
    "                s = people.popleft()\n",
    "            else:\n",
    "                answer += len(people)\n",
    "                break\n",
    "    return answer"
   ]
  },
  {
   "cell_type": "code",
   "execution_count": null,
   "metadata": {},
   "outputs": [],
   "source": []
  }
 ],
 "metadata": {
  "kernelspec": {
   "display_name": "python3.7",
   "language": "python",
   "name": "py37"
  },
  "language_info": {
   "codemirror_mode": {
    "name": "ipython",
    "version": 3
   },
   "file_extension": ".py",
   "mimetype": "text/x-python",
   "name": "python",
   "nbconvert_exporter": "python",
   "pygments_lexer": "ipython3",
   "version": "3.7.6"
  }
 },
 "nbformat": 4,
 "nbformat_minor": 2
}
