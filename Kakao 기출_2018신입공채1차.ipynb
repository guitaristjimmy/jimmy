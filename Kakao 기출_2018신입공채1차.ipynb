{
 "cells": [
  {
   "cell_type": "markdown",
   "metadata": {},
   "source": [
    "# 1. 비밀 지도(난이도: 하)\n",
    "네오는 평소 프로도가 비상금을 숨겨놓는 장소를 알려줄 비밀지도를 손에 넣었다. 그런데 이 비밀지도는 숫자로 암호화되어 있어 위치를 확인하기 위해서는 암호를 해독해야 한다. 다행히 지도 암호를 해독할 방법을 적어놓은 메모도 함께 발견했다.\n",
    "\n",
    "1. 지도는 한 변의 길이가 n인 정사각형 배열 형태로, 각 칸은 “공백”(“ “) 또는 “벽”(“#”) 두 종류로 이루어져 있다.\n",
    "2. 전체 지도는 두 장의 지도를 겹쳐서 얻을 수 있다. 각각 “지도 1”과 “지도 2”라고 하자. 지도 1 또는 지도 2 중 어느 하나라도 벽인 부분은 전체 지도에서도 벽이다. 지도 1과 지도 2에서 모두 공백인 부분은 전체 지도에서도 공백이다.\n",
    "3. “지도 1”과 “지도 2”는 각각 정수 배열로 암호화되어 있다.\n",
    "4. 암호화된 배열은 지도의 각 가로줄에서 벽 부분을 1, 공백 부분을 0으로 부호화했을 때 얻어지는 이진수에 해당하는 값의 배열이다."
   ]
  },
  {
   "cell_type": "code",
   "execution_count": 23,
   "metadata": {},
   "outputs": [],
   "source": [
    "def solution(n, arr1, arr2):\n",
    "    logic = []\n",
    "    for i in range(n):\n",
    "        b = bin(arr1[i] | arr2[i])[2:]\n",
    "        if len(b) < n:\n",
    "            b = '0'*(n-len(b))+b\n",
    "        logic.append(b)\n",
    "    arr = [['#' if s == '1' else '' for s in logic[i]] for i in range(n)]\n",
    "    return arr"
   ]
  },
  {
   "cell_type": "code",
   "execution_count": 24,
   "metadata": {},
   "outputs": [
    {
     "name": "stdout",
     "output_type": "stream",
     "text": [
      "[['#', '#', '#', '#', '#'], ['#', '', '#', '', '#'], ['#', '#', '#', '', '#'], ['#', '', '', '#', '#'], ['#', '#', '#', '#', '#']]\n"
     ]
    }
   ],
   "source": [
    "n = 5\n",
    "arr1 = [9,20,28,18,11]\n",
    "arr2 = [30,1,21,17,28]\n",
    "print(solution(5,arr1, arr2))"
   ]
  },
  {
   "cell_type": "code",
   "execution_count": 25,
   "metadata": {},
   "outputs": [
    {
     "name": "stdout",
     "output_type": "stream",
     "text": [
      "[['#', '#', '#', '#', '#', '#'], ['#', '#', '#', '', '', '#'], ['#', '#', '', '', '#', '#'], ['', '#', '#', '#', '#', ''], ['', '#', '#', '#', '#', '#'], ['#', '#', '#', '', '#', '']]\n"
     ]
    }
   ],
   "source": [
    "n = 6\n",
    "arr1 = [46,33,33,22,31,50]\n",
    "arr2 = [27,56,19,14,14,10]\n",
    "print(solution(n, arr1, arr2))"
   ]
  },
  {
   "cell_type": "markdown",
   "metadata": {},
   "source": [
    "# 2. 다트 게임(난이도: 하)\n",
    "\n",
    "\n",
    "카카오톡 게임별의 하반기 신규 서비스로 다트 게임을 출시하기로 했다. 다트 게임은 다트판에 다트를 세 차례 던져 그 점수의 합계로 실력을 겨루는 게임으로, 모두가 간단히 즐길 수 있다.\n",
    "갓 입사한 무지는 코딩 실력을 인정받아 게임의 핵심 부분인 점수 계산 로직을 맡게 되었다. 다트 게임의 점수 계산 로직은 아래와 같다.\n",
    "\n",
    "1. 다트 게임은 총 3번의 기회로 구성된다.\n",
    "2. 각 기회마다 얻을 수 있는 점수는 0점에서 10점까지이다.\n",
    "3. 점수와 함께 Single(S), Double(D), Triple(T) 영역이 존재하고 각 영역 당첨 시 점수에서 1제곱, 2제곱, 3제곱 (점수^1 , 점수^2 , 점수^3 )으로 계산된다.\n",
    "4. 옵션으로 스타상(*) , 아차상(#)이 존재하며 스타상(*) 당첨 시 해당 점수와 바로 전에 얻은 점수를 각 2배로 만든다. 아차상(#) 당첨 시 해당 점수는 마이너스된다.\n",
    "5. 스타상(*)은 첫 번째 기회에서도 나올 수 있다. 이 경우 첫 번째 스타상(*)의 점수만 2배가 된다. (예제 4번 참고)\n",
    "6. 스타상(*)의 효과는 다른 스타상(*)의 효과와 중첩될 수 있다. 이 경우 중첩된 스타상(*) 점수는 4배가 된다. (예제 4번 참고)\n",
    "7. 스타상(*)의 효과는 아차상(#)의 효과와 중첩될 수 있다. 이 경우 중첩된 아차상(#)의 점수는 -2배가 된다. (예제 5번 참고)\n",
    "8. Single(S), Double(D), Triple(T)은 점수마다 하나씩 존재한다.\n",
    "9. 스타상(*), 아차상(#)은 점수마다 둘 중 하나만 존재할 수 있으며, 존재하지 않을 수도 있다.\n",
    "0~10의 정수와 문자 S, D, T, *, #로 구성된 문자열이 입력될 시 총점수를 반환하는 함수를 작성하라."
   ]
  },
  {
   "cell_type": "code",
   "execution_count": 32,
   "metadata": {},
   "outputs": [],
   "source": [
    "def solution(dartResult):\n",
    "    ans = []\n",
    "    nums = '0123456789'\n",
    "    for i, dr in enumerate(dartResult):\n",
    "        if dr in nums:\n",
    "            if dr == '0':\n",
    "                if dartResult[i-1] in nums:\n",
    "                    ans[-1] *= 10\n",
    "                else:\n",
    "                    ans.append(int(dr))\n",
    "            else:\n",
    "                ans.append(int(dr))\n",
    "        elif dr == 'D':\n",
    "            ans[-1] **= 2\n",
    "        elif dr == 'T':\n",
    "            ans[-1] **= 3\n",
    "        elif dr == '*':\n",
    "            ans[-1] *= 2\n",
    "            if len(ans) >= 2:\n",
    "                ans[-2] *= 2\n",
    "        elif dr == '#':\n",
    "            ans[-1] = -ans[-1]\n",
    "            \n",
    "    return sum(ans)"
   ]
  },
  {
   "cell_type": "code",
   "execution_count": 34,
   "metadata": {},
   "outputs": [
    {
     "name": "stdout",
     "output_type": "stream",
     "text": [
      "37\n",
      "9\n",
      "3\n",
      "23\n",
      "5\n",
      "-4\n",
      "59\n"
     ]
    }
   ],
   "source": [
    "dartResults = ['1S2D*3T','1D2S#10S', '1D2S0T', '1S*2T*3S', '1D#2S*3S',\n",
    "               '1T2D3D#', '1D2S3T*']\n",
    "\n",
    "for dr in dartResults:\n",
    "    print(solution(dr))\n"
   ]
  },
  {
   "cell_type": "markdown",
   "metadata": {},
   "source": [
    "# 3. 캐시(난이도: 하)\n",
    "지도개발팀에서 근무하는 제이지는 지도에서 도시 이름을 검색하면 해당 도시와 관련된 맛집 게시물들을 데이터베이스에서 읽어 보여주는 서비스를 개발하고 있다.\n",
    "이 프로그램의 테스팅 업무를 담당하고 있는 어피치는 서비스를 오픈하기 전 각 로직에 대한 성능 측정을 수행하였는데, 제이지가 작성한 부분 중 데이터베이스에서 게시물을 가져오는 부분의 실행시간이 너무 오래 걸린다는 것을 알게 되었다.\n",
    "어피치는 제이지에게 해당 로직을 개선하라고 닦달하기 시작하였고, 제이지는 DB 캐시를 적용하여 성능 개선을 시도하고 있지만 캐시 크기를 얼마로 해야 효율적인지 몰라 난감한 상황이다.\n",
    "\n",
    "어피치에게 시달리는 제이지를 도와, DB 캐시를 적용할 때 캐시 크기에 따른 실행시간 측정 프로그램을 작성하시오."
   ]
  },
  {
   "cell_type": "code",
   "execution_count": 44,
   "metadata": {},
   "outputs": [],
   "source": [
    "def solution(cacheSize, cities):\n",
    "    cache = []\n",
    "    ans = 0\n",
    "    if cacheSize == 0:\n",
    "        return len(cities)*5\n",
    "    for ct in cities:\n",
    "        ct = ct.lower()\n",
    "        if ct in cache:\n",
    "            cache.append(ct)\n",
    "            cache.remove(ct)\n",
    "            ans += 1\n",
    "        else:\n",
    "            ans += 5\n",
    "            if len(cache) < cacheSize:\n",
    "                cache.append(ct)\n",
    "            else:\n",
    "                cache.popleft()\n",
    "                cache.append(ct)\n",
    "    return ans"
   ]
  },
  {
   "cell_type": "code",
   "execution_count": 45,
   "metadata": {},
   "outputs": [
    {
     "name": "stdout",
     "output_type": "stream",
     "text": [
      "50\n",
      "21\n",
      "60\n",
      "52\n",
      "16\n",
      "25\n"
     ]
    }
   ],
   "source": [
    "cacheSize = 3\n",
    "cities = ['Jeju', 'Pangyo', 'Seoul', 'NewYork', 'LA', 'Jeju', 'Pangyo', 'Seoul',\n",
    "          'NewYork', 'LA']\n",
    "print(solution(cacheSize, cities))\n",
    "\n",
    "cacheSize = 3\n",
    "cities = ['Jeju', 'Pangyo', 'Seoul', 'Jeju', 'Pangyo', 'Seoul', 'Jeju', 'Pangyo', 'Seoul']\n",
    "print(solution(cacheSize, cities))\n",
    "\n",
    "cacheSize = 2\n",
    "cities = ['Jeju', 'Pangyo', 'Seoul', 'NewYork', 'LA', 'SanFrancisco', 'Seoul', 'Rome', 'Paris', 'Jeju', 'NewYork', 'Rome']\n",
    "print(solution(cacheSize, cities))\n",
    "\n",
    "cacheSize = 5\n",
    "cities = ['Jeju', 'Pangyo', 'Seoul', 'NewYork', 'LA', 'SanFrancisco', 'Seoul', 'Rome', 'Paris', 'Jeju', 'NewYork', 'Rome']\n",
    "print(solution(cacheSize, cities))\n",
    "\n",
    "cacheSize = 2\n",
    "cities = ['Jeju', 'Pangyo', 'NewYork', 'newyork']\n",
    "print(solution(cacheSize, cities))\n",
    "\n",
    "cacheSize = 0\n",
    "cities = ['Jeju', 'Pangyo', 'Seoul', 'NewYork', 'LA']\n",
    "print(solution(cacheSize, cities))\n"
   ]
  },
  {
   "cell_type": "markdown",
   "metadata": {},
   "source": [
    "# 4. 셔틀버스(난이도: 중)\n",
    "카카오에서는 무료 셔틀버스를 운행하기 때문에 판교역에서 편하게 사무실로 올 수 있다. 카카오의 직원은 서로를 ‘크루’라고 부르는데, 아침마다 많은 크루들이 이 셔틀을 이용하여 출근한다.\n",
    "\n",
    "이 문제에서는 편의를 위해 셔틀은 다음과 같은 규칙으로 운행한다고 가정하자.\n",
    "\n",
    "* 셔틀은 09:00부터 총 n회 t분 간격으로 역에 도착하며, 하나의 셔틀에는 최대 m명의 승객이 탈 수 있다.\n",
    "* 셔틀은 도착했을 때 도착한 순간에 대기열에 선 크루까지 포함해서 대기 순서대로 태우고 바로 출발한다. 예를 들어 09:00에 도착한 셔틀은 자리가 있다면 09:00에 줄을 선 크루도 탈 수 있다.\n",
    "일찍 나와서 셔틀을 기다리는 것이 귀찮았던 콘은, 일주일간의 집요한 관찰 끝에 어떤 크루가 몇 시에 셔틀 대기열에 도착하는지 알아냈다. 콘이 셔틀을 타고 사무실로 갈 수 있는 도착 시각 중 제일 늦은 시각을 구하여라.\n",
    "\n",
    "단, 콘은 게으르기 때문에 같은 시각에 도착한 크루 중 대기열에서 제일 뒤에 선다. 또한, 모든 크루는 잠을 자야 하므로 23:59에 집에 돌아간다. 따라서 어떤 크루도 다음날 셔틀을 타는 일은 없다."
   ]
  },
  {
   "cell_type": "code",
   "execution_count": 71,
   "metadata": {},
   "outputs": [],
   "source": [
    "def solution(n, t, m, timetable):\n",
    "    time = []\n",
    "    now = 540\n",
    "    for tt in timetable:\n",
    "        temp = tt.split(':')\n",
    "        time.append(int(temp[0])*60 + int(temp[1]))\n",
    "    time.sort(reverse=True)\n",
    "    ans = ''\n",
    "    in_bus = 0\n",
    "    b_count = 0\n",
    "    while n > 0:\n",
    "        c = time.pop()\n",
    "        if in_bus < m and c <= now:\n",
    "            in_bus += 1\n",
    "            b_count += 1\n",
    "        if c > now and c <= now+t:\n",
    "            n -= 1\n",
    "            now += t\n",
    "            in_bus = 1\n",
    "            b_count += 1\n",
    "        if in_bus == m or c > now+t:\n",
    "            n -= 1\n",
    "            now += t\n",
    "            in_bus = 0\n",
    "        if n == 0:\n",
    "            if b_count == 0:\n",
    "                ans = now-t\n",
    "            else:\n",
    "                ans = c-1\n",
    "                break\n",
    "        if len(time) == 0:\n",
    "            ans = t*n+now-1\n",
    "            break\n",
    "    ans = [str(ans//60), str(ans%60)]\n",
    "    if len(ans[0]) == 1:\n",
    "        ans[0] = '0'+ans[0]\n",
    "    if len(ans[1]) == 1:\n",
    "        ans[1] = '0'+ans[1]\n",
    "    return ':'.join(ans)\n",
    "        "
   ]
  },
  {
   "cell_type": "code",
   "execution_count": 72,
   "metadata": {},
   "outputs": [
    {
     "name": "stdout",
     "output_type": "stream",
     "text": [
      "09:00\n",
      "09:09\n",
      "08:59\n",
      "00:00\n",
      "09:00\n",
      "18:00\n"
     ]
    }
   ],
   "source": [
    "n = 1\n",
    "t = 1\n",
    "m = 5\n",
    "timetable = [\"08:00\",'08:01','08:02','08:03']\n",
    "print(solution(n,t,m,timetable))\n",
    "\n",
    "n = 2\n",
    "t = 10\n",
    "m = 2\n",
    "timetable = ['09:10', '09:09', '08:00']\n",
    "print(solution(n,t,m,timetable))\n",
    "\n",
    "n = 2\n",
    "t = 1\n",
    "m = 2\n",
    "timetable = ['09:00', '09:00', '09:00', '09:00']\n",
    "print(solution(n,t,m,timetable))\n",
    "\n",
    "n = 1\n",
    "t = 1\n",
    "m = 5\n",
    "timetable = ['00:01', '00:01', '00:01', '00:01', '00:01']\n",
    "print(solution(n,t,m,timetable))\n",
    "\n",
    "n = 1\n",
    "t = 1\n",
    "m = 1\n",
    "timetable = [\"23:59\"]\n",
    "print(solution(n,t,m,timetable))\n",
    "\n",
    "n = 10\n",
    "t = 60\n",
    "m = 45\n",
    "timetable = ['23:59','23:59', '23:59', '23:59', '23:59', '23:59', '23:59', '23:59', '23:59', '23:59', '23:59', '23:59', '23:59', '23:59', '23:59', '23:59']\n",
    "print(solution(n,t,m,timetable))"
   ]
  },
  {
   "cell_type": "markdown",
   "metadata": {},
   "source": [
    "# 5. 뉴스 클러스터링(난이도: 중)\n",
    "여러 언론사에서 쏟아지는 뉴스, 특히 속보성 뉴스를 보면 비슷비슷한 제목의 기사가 많아 정작 필요한 기사를 찾기가 어렵다. Daum 뉴스의 개발 업무를 맡게 된 신입사원 튜브는 사용자들이 편리하게 다양한 뉴스를 찾아볼 수 있도록 문제점을 개선하는 업무를 맡게 되었다.\n",
    "\n",
    "개발의 방향을 잡기 위해 튜브는 우선 최근 화제가 되고 있는 “카카오 신입 개발자 공채” 관련 기사를 검색해보았다.\n",
    "\n",
    "카카오 첫 공채..’블라인드’ 방식 채용\n",
    "카카오, 합병 후 첫 공채.. 블라인드 전형으로 개발자 채용\n",
    "카카오, 블라인드 전형으로 신입 개발자 공채\n",
    "카카오 공채, 신입 개발자 코딩 능력만 본다\n",
    "카카오, 신입 공채.. “코딩 실력만 본다”\n",
    "카카오 “코딩 능력만으로 2018 신입 개발자 뽑는다”\n",
    "기사의 제목을 기준으로 “블라인드 전형”에 주목하는 기사와 “코딩 테스트”에 주목하는 기사로 나뉘는 걸 발견했다. 튜브는 이들을 각각 묶어서 보여주면 카카오 공채 관련 기사를 찾아보는 사용자에게 유용할 듯싶었다.\n",
    "\n",
    "유사한 기사를 묶는 기준을 정하기 위해서 논문과 자료를 조사하던 튜브는 “자카드 유사도”라는 방법을 찾아냈다.\n",
    "\n",
    "자카드 유사도는 집합 간의 유사도를 검사하는 여러 방법 중의 하나로 알려져 있다. 두 집합 A, B 사이의 자카드 유사도 J(A, B)는 두 집합의 교집합 크기를 두 집합의 합집합 크기로 나눈 값으로 정의된다.\n",
    "\n",
    "예를 들어 집합 A = {1, 2, 3}, 집합 B = {2, 3, 4}라고 할 때, 교집합 A ∩ B = {2, 3}, 합집합 A ∪ B = {1, 2, 3, 4}이 되므로, 집합 A, B 사이의 자카드 유사도 J(A, B) = 2/4 = 0.5가 된다. 집합 A와 집합 B가 모두 공집합일 경우에는 나눗셈이 정의되지 않으니 따로 J(A, B) = 1로 정의한다.\n",
    "\n",
    "자카드 유사도는 원소의 중복을 허용하는 다중집합에 대해서 확장할 수 있다. 다중집합 A는 원소 “1”을 3개 가지고 있고, 다중집합 B는 원소 “1”을 5개 가지고 있다고 하자. 이 다중집합의 교집합 A ∩ B는 원소 “1”을 min(3, 5)인 3개, 합집합 A ∪ B는 원소 “1”을 max(3, 5)인 5개 가지게 된다. 다중집합 A = {1, 1, 2, 2, 3}, 다중집합 B = {1, 2, 2, 4, 5}라고 하면, 교집합 A ∩ B = {1, 2, 2}, 합집합 A ∪ B = {1, 1, 2, 2, 3, 4, 5}가 되므로, 자카드 유사도 J(A, B) = 3/7, 약 0.42가 된다.\n",
    "\n",
    "이를 이용하여 문자열 사이의 유사도를 계산하는데 이용할 수 있다. 문자열 “FRANCE”와 “FRENCH”가 주어졌을 때, 이를 두 글자씩 끊어서 다중집합을 만들 수 있다. 각각 {FR, RA, AN, NC, CE}, {FR, RE, EN, NC, CH}가 되며, 교집합은 {FR, NC}, 합집합은 {FR, RA, AN, NC, CE, RE, EN, CH}가 되므로, 두 문자열 사이의 자카드 유사도 J(\"FRANCE\", \"FRENCH\") = 2/8 = 0.25가 된다."
   ]
  },
  {
   "cell_type": "code",
   "execution_count": 115,
   "metadata": {},
   "outputs": [],
   "source": [
    "import re\n",
    "def solution(str1, str2):\n",
    "    ans = 0\n",
    "    str1 = str1.lower()\n",
    "    str2 = str2.lower()\n",
    "    def make_set(s):\n",
    "        p = re.compile('[a-z]')\n",
    "        result = []\n",
    "        for i in range(1, len(s)):\n",
    "            if p.match(s[i]) and p.match(s[i-1]):\n",
    "                result.append(s[i-1]+s[i])\n",
    "        return result\n",
    "    set1 = make_set(str1)\n",
    "    set2 = make_set(str2)\n",
    "    inter_s = []\n",
    "    outer_s = []\n",
    "    for s1 in set1:\n",
    "        outer_s.append(s1)\n",
    "        if s1 in set2:\n",
    "            set2.remove(s1)\n",
    "            inter_s.append(s1)\n",
    "    for s2 in set2:\n",
    "        outer_s.append(s2)\n",
    "    ans = len(inter_s)/len(outer_s) if len(outer_s) != 0 else 1\n",
    "    return int(ans*65536)"
   ]
  },
  {
   "cell_type": "code",
   "execution_count": 116,
   "metadata": {},
   "outputs": [
    {
     "name": "stdout",
     "output_type": "stream",
     "text": [
      "16384\n",
      "65536\n",
      "43690\n",
      "65536\n"
     ]
    }
   ],
   "source": [
    "str1 = ['FRANCE', 'handshake', 'aa1+aa2', 'E=M*C^2']\n",
    "str2 = ['french', 'shake hands', 'AAAA12', 'e=m*c^2']\n",
    "for s1, s2 in zip(str1, str2):\n",
    "    print(solution(s1, s2))"
   ]
  },
  {
   "cell_type": "markdown",
   "metadata": {},
   "source": [
    "# 6. 프렌즈4블록(난이도: 상)\n",
    "블라인드 공채를 통과한 신입 사원 라이언은 신규 게임 개발 업무를 맡게 되었다. 이번에 출시할 게임 제목은 “프렌즈4블록”.\n",
    "같은 모양의 카카오프렌즈 블록이 2×2 형태로 4개가 붙어있을 경우 사라지면서 점수를 얻는 게임이다."
   ]
  },
  {
   "cell_type": "code",
   "execution_count": 145,
   "metadata": {},
   "outputs": [],
   "source": [
    "import numpy as np\n",
    "def solution(m, n, board):\n",
    "    ans = 0\n",
    "    board = [[s for s in board[j]] for j in range(len(board))]\n",
    "    def down(board):\n",
    "        for i in range(1, len(board)):\n",
    "            for j in range(len(board[i])):\n",
    "                if board[i][j] == 0:\n",
    "                    board[i][j] = board[i-1][j]\n",
    "                    board[i-1][j] = 0\n",
    "        return board\n",
    "    while True:\n",
    "        remove_coor = []\n",
    "        for i in range(m-1):\n",
    "            for j in range(n-1):\n",
    "                if board[i][j] != 0:\n",
    "                    if board[i][j] == board[i][j+1]:\n",
    "                        if board[i][j] == board[i+1][j]:\n",
    "                            if board[i][j] == board[i+1][j+1]:\n",
    "                                remove_coor.append((i,j))\n",
    "        if len(remove_coor) == 0:\n",
    "            break\n",
    "        for r in remove_coor:\n",
    "            if board[r[0]][r[1]] != 0:\n",
    "                ans += 1\n",
    "                board[r[0]][r[1]] = 0\n",
    "            if board[r[0]][r[1]+1] != 0:\n",
    "                ans += 1\n",
    "                board[r[0]][r[1]+1] = 0\n",
    "            if board[r[0]+1][r[1]] != 0:\n",
    "                ans += 1\n",
    "                board[r[0]+1][r[1]] = 0\n",
    "            if board[r[0]+1][r[1]+1] != 0:\n",
    "                ans += 1\n",
    "                board[r[0]+1][r[1]+1] = 0\n",
    "        down(board)\n",
    "    return ans"
   ]
  },
  {
   "cell_type": "code",
   "execution_count": 146,
   "metadata": {},
   "outputs": [
    {
     "name": "stdout",
     "output_type": "stream",
     "text": [
      "14\n",
      "15\n"
     ]
    }
   ],
   "source": [
    "m = 4\n",
    "n = 5\n",
    "board = ['CCBDE', 'AAADE', 'AAABF', 'CCBBF']\n",
    "print(solution(m,n,board))\n",
    "\n",
    "m = 6\n",
    "n = 6\n",
    "board = ['TTTANT', 'RRFACC', 'RRRFCC', 'TRRRAA', 'TTMMMF', 'TMMTTJ']\n",
    "print(solution(m,n,board))"
   ]
  },
  {
   "cell_type": "markdown",
   "metadata": {},
   "source": [
    "# 7. 추석 트래픽(난이도: 상)\n",
    "이번 추석에도 시스템 장애가 없는 명절을 보내고 싶은 어피치는 서버를 증설해야 할지 고민이다. 장애 대비용 서버 증설 여부를 결정하기 위해 작년 추석 기간인 9월 15일 로그 데이터를 분석한 후 초당 최대 처리량을 계산해보기로 했다. 초당 최대 처리량은 요청의 응답 완료 여부에 관계없이 임의 시간부터 1초(=1,000밀리초)간 처리하는 요청의 최대 개수를 의미한다."
   ]
  },
  {
   "cell_type": "code",
   "execution_count": 224,
   "metadata": {},
   "outputs": [],
   "source": [
    "import numpy as np\n",
    "def solution(lines):\n",
    "    logs = [line.split(' ')[1:] for line in lines]\n",
    "    time = []\n",
    "    for log in logs:\n",
    "        t = log[0].split(':')\n",
    "        t = int(t[0])*60*60 + int(t[1])*60 + float(t[2])\n",
    "        d = float(log[1][:-1])\n",
    "        time.append((int((t-d+0.001)*1000),int(t*1000)))\n",
    "    counts = []\n",
    "    for i in range(len(time)):\n",
    "        cnt = 0\n",
    "        for j in range(i, len(time)):\n",
    "            if time[i][1]+1000 > time[j][0]:\n",
    "                    cnt += 1\n",
    "            else:\n",
    "                break\n",
    "        counts.append(cnt)\n",
    "    return np.max(counts)"
   ]
  },
  {
   "cell_type": "code",
   "execution_count": 225,
   "metadata": {},
   "outputs": [
    {
     "name": "stdout",
     "output_type": "stream",
     "text": [
      "[(3602002, 3604001), (3605001, 3607000)]\n",
      "1\n",
      "[(3602003, 3604002), (3605001, 3607000)]\n",
      "2\n",
      "[(75597071, 75597421), (75597053, 75598233), (75597500, 75598299), (75597648, 75598688), (75598180, 75599591), (75598999, 75600464), (75599161, 75600741), (75598439, 75600748), (75600586, 75600966), (75599447, 75602066)]\n",
      "7\n"
     ]
    }
   ],
   "source": [
    "lines =  [ '2016-09-15 01:00:04.001 2.0s', '2016-09-15 01:00:07.000 2s']\n",
    "print(solution(lines))\n",
    "\n",
    "lines = ['2016-09-15 01:00:04.002 2.0s','2016-09-15 01:00:07.000 2s']\n",
    "print(solution(lines))\n",
    "\n",
    "lines =  ['2016-09-15 20:59:57.421 0.351s', '2016-09-15 20:59:58.233 1.181s',\n",
    "          '2016-09-15 20:59:58.299 0.8s', '2016-09-15 20:59:58.688 1.041s',\n",
    "          '2016-09-15 20:59:59.591 1.412s', '2016-09-15 21:00:00.464 1.466s',\n",
    "          '2016-09-15 21:00:00.741 1.581s', '2016-09-15 21:00:00.748 2.31s',\n",
    "          '2016-09-15 21:00:00.966 0.381s', '2016-09-15 21:00:02.066 2.62s']\n",
    "print(solution(lines))"
   ]
  }
 ],
 "metadata": {
  "kernelspec": {
   "display_name": "python3.7",
   "language": "python",
   "name": "test_pyqt"
  },
  "language_info": {
   "codemirror_mode": {
    "name": "ipython",
    "version": 3
   },
   "file_extension": ".py",
   "mimetype": "text/x-python",
   "name": "python",
   "nbconvert_exporter": "python",
   "pygments_lexer": "ipython3",
   "version": "3.7.6"
  }
 },
 "nbformat": 4,
 "nbformat_minor": 2
}
