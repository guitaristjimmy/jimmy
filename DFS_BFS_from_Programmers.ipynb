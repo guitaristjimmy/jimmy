{
 "cells": [
  {
   "cell_type": "markdown",
   "metadata": {},
   "source": [
    "## Programmers에서 제공한 예제입니다.\n",
    "##### https://programmers.co.kr/"
   ]
  },
  {
   "cell_type": "markdown",
   "metadata": {},
   "source": [
    "# 타겟 넘버\n",
    "* n개의 음이 아닌 정수가 있습니다. 이 수를 적절히 더하거나 빼서 타겟 넘버를 만들려고 합니다.\n",
    "\n",
    "매개변수 ::\n",
    "* 사용할 수 있는 숫자가 담긴 배열 numbers\n",
    "* 타겟 넘버 target\n",
    "\n",
    "return ::\n",
    "* 타겟 넘버를 만드는 방법의 수"
   ]
  },
  {
   "cell_type": "code",
   "execution_count": 1,
   "metadata": {},
   "outputs": [],
   "source": [
    "def solution(numbers, target):\n",
    "    answer = sum_nums(numbers, target, 0)\n",
    "    answer = answer.count(True)\n",
    "    return answer\n",
    "\n",
    "def sum_nums(nums, target, sum_n):\n",
    "    result = []\n",
    "    temp = nums[0]\n",
    "    for i in range(0, 2):\n",
    "        temp = -1*temp\n",
    "        ans = sum_n + temp\n",
    "        if len(nums) > 1:\n",
    "            result += sum_nums(nums[1:], target, ans)\n",
    "        else:\n",
    "            if ans == target:\n",
    "                result.append(True)\n",
    "            else:\n",
    "                result.append(False)\n",
    "    return result"
   ]
  },
  {
   "cell_type": "markdown",
   "metadata": {},
   "source": [
    "# 네트워크\n",
    "\n",
    "매개변수 ::\n",
    "* 컴퓨터의 개수 n, 연결에 대한 정보가 담긴 2차원 배열 computers\n",
    "\n",
    "return ::\n",
    "* 네트워크의 개수"
   ]
  },
  {
   "cell_type": "code",
   "execution_count": 2,
   "metadata": {},
   "outputs": [],
   "source": [
    "def solution(n, computers):\n",
    "    answer = 0\n",
    "    conn, disconn = [], []\n",
    "    for i in range(0, n):\n",
    "        if computers[0][i] == 1:\n",
    "            conn.append(i)\n",
    "        else:\n",
    "            disconn.append(i)\n",
    "    i = 1\n",
    "    while i < len(conn):\n",
    "        c = conn[i]\n",
    "        j = 0\n",
    "        while j < len(disconn):\n",
    "            d = disconn[j]\n",
    "            if computers[c][d] == 1:\n",
    "                conn.append(d)\n",
    "                disconn.remove(d)\n",
    "            else:\n",
    "                j += 1\n",
    "        i += 1\n",
    "    if len(disconn) == 1:\n",
    "        return 2\n",
    "    elif len(disconn) == 0:\n",
    "        return 1\n",
    "    else:\n",
    "        return 1 + solution(len(disconn), [[computers[x][y] for y in disconn] for x in disconn])"
   ]
  },
  {
   "cell_type": "markdown",
   "metadata": {},
   "source": [
    "# 단어 변환\n",
    "\n",
    "* 아래와 같은 규칙을 이용하여 begin에서 target으로 변환하는 가장 짧은 변환 과정을 찾으려고 합니다.\n",
    "\n",
    "    1. 한 번에 한 개의 알파벳만 바꿀 수 있습니다.\n",
    "\n",
    "    2. words에 있는 단어로만 변환할 수 있습니다.\n",
    "\n",
    "\n",
    "\n",
    "매개변수 ::\n",
    "* 두 개의 단어 begin, target\n",
    "* 단어의 집합 words\n",
    "\n",
    "return ::\n",
    "* 최소 몇 단계의 과정을 거쳐 begin을 target으로 변환할 수 있는지"
   ]
  },
  {
   "cell_type": "code",
   "execution_count": 3,
   "metadata": {},
   "outputs": [],
   "source": [
    "def solution(begin, target, words):\n",
    "    answer = 0\n",
    "    def next_steps(w, words):\n",
    "        next_words = []\n",
    "        for word in words:\n",
    "            check = 0\n",
    "            for i in range(len(word)):\n",
    "                if w[i] != word[i]:\n",
    "                    check += 1\n",
    "                if check >= 2:\n",
    "                    break\n",
    "            if check == 1:\n",
    "                next_words.append(word)\n",
    "        return next_words\n",
    "    ns = next_steps(begin, words)\n",
    "    if len(ns) == 0:\n",
    "        return 0\n",
    "    elif ns.count(target) != 0:\n",
    "        return answer+1\n",
    "    else:\n",
    "        for n in ns:\n",
    "            words.remove(n)\n",
    "        for n in ns:\n",
    "            s = solution(n, target, words)\n",
    "            if s > 0:\n",
    "                return answer+s+1     \n",
    "    return answer"
   ]
  },
  {
   "cell_type": "markdown",
   "metadata": {},
   "source": [
    "# 여행경로\n",
    "\n",
    "매개변수 ::\n",
    "* 항공권 정보가 담긴 2차원 배열 tickets\n",
    "\n",
    "return ::\n",
    "* 방문하는 공항 경로"
   ]
  },
  {
   "cell_type": "code",
   "execution_count": 4,
   "metadata": {},
   "outputs": [],
   "source": [
    "def solution(tickets):\n",
    "    start = 'ICN'\n",
    "    answer, temp_tickets, fork = [start], tickets[:], []\n",
    "    def next_destination(start, tickets):\n",
    "        return [x[1] for x in tickets if x[0] == start]\n",
    "    while len(temp_tickets) > 0:\n",
    "        d = next_destination(start, temp_tickets)\n",
    "        if len(d) > 1:\n",
    "            d.sort()\n",
    "            fork.append([len(answer), d[1:]])\n",
    "        elif len(d) == 0:\n",
    "            answer = answer[:fork[-1][0]]\n",
    "            start = answer[-1]\n",
    "            temp_tickets = tickets[:]\n",
    "            for i in range(len(answer)-1):\n",
    "                temp_tickets.remove([answer[i], answer[i+1]])\n",
    "            d = fork[-1][1][:]\n",
    "            fork[-1][1].remove(fork[-1][1][0])\n",
    "            if len(fork[-1][1]) == 0:\n",
    "                fork.pop()\n",
    "        answer.append(d[0])\n",
    "        temp_tickets.remove([start, d[0]])\n",
    "        start = d[0]\n",
    "    return answer"
   ]
  }
 ],
 "metadata": {
  "kernelspec": {
   "display_name": "python3.7",
   "language": "python",
   "name": "test_pyqt"
  },
  "language_info": {
   "codemirror_mode": {
    "name": "ipython",
    "version": 3
   },
   "file_extension": ".py",
   "mimetype": "text/x-python",
   "name": "python",
   "nbconvert_exporter": "python",
   "pygments_lexer": "ipython3",
   "version": "3.7.6"
  }
 },
 "nbformat": 4,
 "nbformat_minor": 2
}
