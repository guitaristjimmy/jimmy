{
 "cells": [
  {
   "cell_type": "markdown",
   "metadata": {},
   "source": [
    "## Programmers에서 제공한 예제입니다.\n",
    "##### https://programmers.co.kr/\n",
    "\n",
    "* 2번째 예제인 '다리를 지나는 트럭'을 제외하고는 풀이에 큰 어려움이 없었다."
   ]
  },
  {
   "cell_type": "markdown",
   "metadata": {},
   "source": [
    "# 탑\n",
    "\n",
    "맨 왼쪽부터 순서대로 탑의 높이를 담은 배열 heights 를 배개변수로 받아 각 탑이 쏜 신호를 어느 탑에서 받았는지 기록한 배열을 return 하는 문제"
   ]
  },
  {
   "cell_type": "code",
   "execution_count": 1,
   "metadata": {},
   "outputs": [],
   "source": [
    "def solution(heights):\n",
    "    answer = []\n",
    "    for i in range(1, len(heights)):\n",
    "        receive_check = 0\n",
    "        for j in range(i+1, len(heights)+1):\n",
    "            if heights[-i] < heights[-j]:\n",
    "                answer.append(len(heights)-j+1)\n",
    "                receive_check = 1\n",
    "                break\n",
    "        if receive_check == 0:\n",
    "            answer.append(0)\n",
    "    answer.append(0)\n",
    "    answer.reverse()\n",
    "    return answer"
   ]
  },
  {
   "cell_type": "markdown",
   "metadata": {},
   "source": [
    "# 다리를 지나는 트럭\n",
    "\n",
    "매개변수 :: \n",
    "* 다리 길이 bridge_length\n",
    "* 다리가 견딜 수 있는 무게 weight\n",
    "* 트럭별 무게를 담은 배열 truck_weights\n",
    "\n",
    "(트럭은 1초에 1만큼 움직인다.)\n",
    "\n",
    "return ::\n",
    "* 트럭이 모두 다리를 건너는 데 걸리는 시간\n",
    "\n",
    "문제 출처 :: \n",
    "http://icpckorea.org/2016/ONLINE/problem.pdf\n",
    "\n",
    "\n",
    "개인적으로 기억의 남는 문제인데, 쉽게 생각해서 큐를 만들어서 트럭을 집어 넣으면 된다고 생각했지만, 테스트 케이스에서 시간초과로 많은 고민을 하게 한 문제..."
   ]
  },
  {
   "cell_type": "code",
   "execution_count": 2,
   "metadata": {},
   "outputs": [],
   "source": [
    "def solution(br_len, w, t_w):\n",
    "    on_br, check_t = [], []\n",
    "    t, n, end_flag = 0, 0, 0\n",
    "    while end_flag == 0:\n",
    "        t += 1\n",
    "        if len(check_t) != 0:\n",
    "            if check_t[0]+br_len == t:\n",
    "                on_br.remove(on_br[0])\n",
    "                check_t.remove(check_t[0])\n",
    "            \n",
    "        if sum(on_br) + t_w[n] <= w:\n",
    "            on_br.append(t_w[n])\n",
    "            check_t.append(t)\n",
    "            n += 1\n",
    "        else:\n",
    "            for i in range(0, len(on_br)):\n",
    "                on_br.remove(on_br[0])\n",
    "                t += br_len - (t - check_t[0])\n",
    "                check_t.remove(check_t[0])\n",
    "                if sum(on_br) + t_w[n] <= w:\n",
    "                    on_br.append(t_w[n])\n",
    "                    check_t.append(t)\n",
    "                    n += 1\n",
    "                    break\n",
    "        if n == len(t_w):\n",
    "            t += br_len\n",
    "            break\n",
    "    return t"
   ]
  },
  {
   "cell_type": "markdown",
   "metadata": {},
   "source": [
    "# 기능개발\n",
    "\n",
    "매개변수 ::\n",
    "* 먼저 배포되어야 하는 순서대로 작업의 진도가 적힌 정수 배열 progresses\n",
    "* 각 작업의 개발 속도가 적힌 정수 배열 speeds\n",
    "(개발된 기능은 선행 기능이 완료 되어야 배포가 가능하며, 이때 뒤에 있는 기능은 앞에 있는 기능이 배포될 때 함께 배포됩니다.)\n",
    "\n",
    "return ::\n",
    "* 각 배포마다 몇 개의 기능이 배포되는지"
   ]
  },
  {
   "cell_type": "code",
   "execution_count": 3,
   "metadata": {},
   "outputs": [],
   "source": [
    "def solution(progresses, speeds):\n",
    "    answer = [1]\n",
    "    i = 0\n",
    "    dist = cal_days(progresses[0], speeds[0])\n",
    "    for p, s in zip(progresses[1:], speeds[1:]):\n",
    "        temp = cal_days(p, s)\n",
    "        if dist >= temp:\n",
    "            answer[i] += 1\n",
    "        else:\n",
    "            dist = temp\n",
    "            answer.append(1)\n",
    "            i += 1\n",
    "    return answer\n",
    "\n",
    "def cal_days(progress, speed):\n",
    "    days = int((100 - progress)/speed) + (1 if (100-progress) % speed != 0 else 0)\n",
    "    return days"
   ]
  },
  {
   "cell_type": "markdown",
   "metadata": {},
   "source": [
    "# 프린터\n",
    "\n",
    "매개변수 ::\n",
    "* 현재 대기목록에 있는 문서의 중요도가 순서대로 담긴 배열 priorities\n",
    "* 내가 인쇄를 요청한 문서가 현재 대기 목록의 어떤 위치에 있는지 알려주는 location\n",
    "\n",
    "return ::\n",
    "* 내가 인쇄를 요청한 문서가 몇번째로 인쇄되는지"
   ]
  },
  {
   "cell_type": "code",
   "execution_count": 4,
   "metadata": {},
   "outputs": [],
   "source": [
    "def solution(priorities, location):\n",
    "    answer = location + 1\n",
    "    i = 0\n",
    "    while i < len(priorities) - 1:\n",
    "        if  priorities[i] < max(priorities[i+1:]):\n",
    "            temp = priorities[i]\n",
    "            priorities.remove(temp)\n",
    "            priorities.append(temp)\n",
    "            if location > i:\n",
    "                location -= 1\n",
    "            elif location == i:\n",
    "                location = len(priorities)-1\n",
    "            else:\n",
    "                answer = location + 1\n",
    "                return answer\n",
    "        else:\n",
    "            if i == location:\n",
    "                answer = location + 1\n",
    "                return answer\n",
    "            i += 1\n",
    "                \n",
    "    return location + 1"
   ]
  },
  {
   "cell_type": "markdown",
   "metadata": {},
   "source": [
    "# 쇠막대기\n",
    "\n",
    "매개변수 ::\n",
    "* 쇠막대기와 레이저의 배치를 표현한 문자열 arrangement\n",
    "\n",
    "return ::\n",
    "* 잘린 쇠막대기 조각의 총 개수"
   ]
  },
  {
   "cell_type": "code",
   "execution_count": 5,
   "metadata": {},
   "outputs": [],
   "source": [
    "def solution(arrangement):\n",
    "    answer, s, i = 0, 0, 0\n",
    "    while i < len(arrangement):\n",
    "        if arrangement[i] == '(':\n",
    "            if arrangement[i+1] == ')':\n",
    "                answer += s\n",
    "                i += 2\n",
    "            else:\n",
    "                s += 1\n",
    "                i += 1\n",
    "        else:\n",
    "            s -= 1\n",
    "            i += 1\n",
    "            answer += 1\n",
    "    return answer"
   ]
  },
  {
   "cell_type": "markdown",
   "metadata": {},
   "source": [
    "# 주식가격\n",
    "\n",
    "매개변수 ::\n",
    "* 초 단위로 기록된 주식가격이 담긴 배열 prices\n",
    "\n",
    "return ::\n",
    "* 가격이 떨어지지 않은 기간은 몇초인지"
   ]
  },
  {
   "cell_type": "code",
   "execution_count": 6,
   "metadata": {},
   "outputs": [],
   "source": [
    "def solution(prices):\n",
    "    answer = [0]*len(prices)\n",
    "    stack = [0]\n",
    "    for i, price in enumerate(prices[1:]):\n",
    "        if price >= prices[stack[-1]]:\n",
    "            stack.append(i+1)\n",
    "        else:\n",
    "            while len(stack) > 0:\n",
    "                if price < prices[stack[-1]]:\n",
    "                    answer[stack[-1]] = i+1-stack[-1]\n",
    "                    stack.pop()\n",
    "                else:\n",
    "                    break\n",
    "            stack.append(i+1)\n",
    "                \n",
    "    for s in stack:\n",
    "        answer[s] = len(prices)-1-s\n",
    "                \n",
    "    return answer"
   ]
  }
 ],
 "metadata": {
  "kernelspec": {
   "display_name": "Python 3",
   "language": "python",
   "name": "python3"
  },
  "language_info": {
   "codemirror_mode": {
    "name": "ipython",
    "version": 3
   },
   "file_extension": ".py",
   "mimetype": "text/x-python",
   "name": "python",
   "nbconvert_exporter": "python",
   "pygments_lexer": "ipython3",
   "version": "3.7.4"
  }
 },
 "nbformat": 4,
 "nbformat_minor": 2
}
